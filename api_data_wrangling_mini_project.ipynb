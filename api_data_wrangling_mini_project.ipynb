{
 "cells": [
  {
   "cell_type": "markdown",
   "metadata": {},
   "source": [
    "This exercise will require you to pull some data from the Qunadl API. Qaundl is currently the most widely used aggregator of financial market data."
   ]
  },
  {
   "cell_type": "markdown",
   "metadata": {},
   "source": [
    "As a first step, you will need to register a free account on the http://www.quandl.com website."
   ]
  },
  {
   "cell_type": "markdown",
   "metadata": {},
   "source": [
    "After you register, you will be provided with a unique API key, that you should store:"
   ]
  },
  {
   "cell_type": "code",
   "execution_count": 65,
   "metadata": {},
   "outputs": [],
   "source": [
    "# Store the API key as a string - according to PEP8, constants are always named in all upper case\n",
    "API_KEY = ''"
   ]
  },
  {
   "cell_type": "markdown",
   "metadata": {},
   "source": [
    "Qaundl has a large number of data sources, but, unfortunately, most of them require a Premium subscription. Still, there are also a good number of free datasets."
   ]
  },
  {
   "cell_type": "markdown",
   "metadata": {},
   "source": [
    "For this mini project, we will focus on equities data from the Frankfurt Stock Exhange (FSE), which is available for free. We'll try and analyze the stock prices of a company called Carl Zeiss Meditec, which manufactures tools for eye examinations, as well as medical lasers for laser eye surgery: https://www.zeiss.com/meditec/int/home.html. The company is listed under the stock ticker AFX_X."
   ]
  },
  {
   "cell_type": "markdown",
   "metadata": {},
   "source": [
    "You can find the detailed Quandl API instructions here: https://docs.quandl.com/docs/time-series"
   ]
  },
  {
   "cell_type": "markdown",
   "metadata": {},
   "source": [
    "While there is a dedicated Python package for connecting to the Quandl API, we would prefer that you use the *requests* package, which can be easily downloaded using *pip* or *conda*. You can find the documentation for the package here: http://docs.python-requests.org/en/master/ "
   ]
  },
  {
   "cell_type": "markdown",
   "metadata": {},
   "source": [
    "Finally, apart from the *requests* package, you are encouraged to not use any third party Python packages, such as *pandas*, and instead focus on what's available in the Python Standard Library (the *collections* module might come in handy: https://pymotw.com/3/collections/ ).\n",
    "Also, since you won't have access to DataFrames, you are encouraged to us Python's native data structures - preferably dictionaries, though some questions can also be answered using lists.\n",
    "You can read more on these data structures here: https://docs.python.org/3/tutorial/datastructures.html"
   ]
  },
  {
   "cell_type": "markdown",
   "metadata": {},
   "source": [
    "Keep in mind that the JSON responses you will be getting from the API map almost one-to-one to Python's dictionaries. Unfortunately, they can be very nested, so make sure you read up on indexing dictionaries in the documentation provided above."
   ]
  },
  {
   "cell_type": "code",
   "execution_count": 66,
   "metadata": {},
   "outputs": [],
   "source": [
    "# First, import the relevant modules\n",
    "import requests\n",
    "import collections"
   ]
  },
  {
   "cell_type": "code",
   "execution_count": 67,
   "metadata": {},
   "outputs": [],
   "source": [
    "# Now, call the Quandl API and pull out a small sample of the data (only one day) to get a glimpse\n",
    "# into the JSON structure that will be returned\n",
    "small_sample=requests.get('https://www.quandl.com/api/v3/datasets/FSE/AFX_X.json',\n",
    "                         params=dict(api_key=API_KEY, start_date='2017-01-02', end_date='2017-01-02'))"
   ]
  },
  {
   "cell_type": "code",
   "execution_count": 68,
   "metadata": {},
   "outputs": [
    {
     "name": "stdout",
     "output_type": "stream",
     "text": [
      "dict_keys(['dataset'])\n",
      "{'id': 10095370, 'dataset_code': 'AFX_X', 'database_code': 'FSE', 'name': 'Carl Zeiss Meditec (AFX_X)', 'description': 'Stock Prices for Carl Zeiss Meditec (2020-11-02) from the Frankfurt Stock Exchange.<br><br>Trading System: Xetra<br><br>ISIN: DE0005313704', 'refreshed_at': '2020-12-01T14:48:09.907Z', 'newest_available_date': '2020-12-01', 'oldest_available_date': '2000-06-07', 'column_names': ['Date', 'Open', 'High', 'Low', 'Close', 'Change', 'Traded Volume', 'Turnover', 'Last Price of the Day', 'Daily Traded Units', 'Daily Turnover'], 'frequency': 'daily', 'type': 'Time Series', 'premium': False, 'limit': None, 'transform': None, 'column_index': None, 'start_date': '2017-01-02', 'end_date': '2017-01-02', 'data': [['2017-01-02', 34.99, 35.94, 34.99, 35.8, None, 44700.0, 1590561.0, None, None, None]], 'collapse': None, 'order': None, 'database_id': 6129}\n",
      "['Date', 'Open', 'High', 'Low', 'Close', 'Change', 'Traded Volume', 'Turnover', 'Last Price of the Day', 'Daily Traded Units', 'Daily Turnover']\n",
      "['2017-01-02', 34.99, 35.94, 34.99, 35.8, None, 44700.0, 1590561.0, None, None, None]\n",
      "defaultdict(<class 'list'>, {'Date': ['2017-01-02'], 'Open': [34.99], 'High': [35.94], 'Low': [34.99], 'Close': [35.8], 'Change': [None], 'Traded Volume': [44700.0], 'Turnover': [1590561.0], 'Last Price of the Day': [None], 'Daily Traded Units': [None], 'Daily Turnover': [None]})\n"
     ]
    }
   ],
   "source": [
    "# Inspect the JSON structure of the object you created, and take note of how nested it is,\n",
    "# as well as the overall structure\n",
    "print(small_sample.json().keys()) # Only one key is in this dictionary: dataset\n",
    "print(small_sample.json()['dataset']) # The whole nested dictionary\n",
    "print(small_sample.json()['dataset']['column_names']) # column names of the data set\n",
    "print(small_sample.json()['dataset']['data'][0]) # one day's observation (one row)\n",
    "data_small_sample=collections.defaultdict(list) # Convert data to dataframe-like dictionary\n",
    "for nrow in range(len(small_sample.json()['dataset']['data'])):\n",
    "    for index, column_name in enumerate(small_sample.json()['dataset']['column_names']):\n",
    "        data_small_sample[column_name].append(small_sample.json()['dataset']['data'][nrow][index])\n",
    "print(data_small_sample)"
   ]
  },
  {
   "cell_type": "markdown",
   "metadata": {},
   "source": [
    "These are your tasks for this mini project:\n",
    "\n",
    "1. Collect data from the Franfurt Stock Exchange, for the ticker AFX_X, for the whole year 2017 (keep in mind that the date format is YYYY-MM-DD).\n",
    "2. Convert the returned JSON object into a Python dictionary.\n",
    "3. Calculate what the highest and lowest opening prices were for the stock in this period.\n",
    "4. What was the largest change in any one day (based on High and Low price)?\n",
    "5. What was the largest change between any two days (based on Closing Price)?\n",
    "6. What was the average daily trading volume during this year?\n",
    "7. (Optional) What was the median trading volume during this year. (Note: you may need to implement your own function for calculating the median.)"
   ]
  },
  {
   "cell_type": "code",
   "execution_count": 69,
   "metadata": {},
   "outputs": [],
   "source": [
    "# 1. Collect data from the Franfurt Stock Exchange, for the ticker AFX_X, for the whole year 2017 (keep in mind that the date format is YYYY-MM-DD).\n",
    "response=requests.get('https://www.quandl.com/api/v3/datasets/FSE/AFX_X.json',\n",
    "                         params=dict(api_key=API_KEY, start_date='2017-01-01', end_date='2017-12-31', order='asc'))\n",
    "# 2. Convert the returned JSON object into a Python dictionary.\n",
    "response_json=response.json()\n",
    "data=collections.defaultdict(list) \n",
    "for nrow in range(len(response_json['dataset']['data'])):\n",
    "    for index, column_name in enumerate(response_json['dataset']['column_names']):\n",
    "        data[column_name].append(response_json['dataset']['data'][nrow][index])\n"
   ]
  },
  {
   "cell_type": "code",
   "execution_count": 70,
   "metadata": {},
   "outputs": [
    {
     "name": "stdout",
     "output_type": "stream",
     "text": [
      "Date : ['2017-01-02', '2017-01-03', '2017-01-04', '2017-01-05', '2017-01-06']\n",
      "Open : [34.99, 35.9, 35.48, 35.02, 34.91]\n",
      "High : [35.94, 35.93, 35.51, 35.2, 35.21]\n",
      "Low : [34.99, 35.34, 34.75, 34.73, 34.91]\n",
      "Close : [35.8, 35.48, 35.19, 35.06, 35.04]\n",
      "Change : [None, None, None, None, None]\n",
      "Traded Volume : [44700.0, 70618.0, 54408.0, 48412.0, 27507.0]\n",
      "Turnover : [1590561.0, 2515473.0, 1906810.0, 1692326.0, 964046.0]\n",
      "Last Price of the Day : [None, None, None, None, None]\n",
      "Daily Traded Units : [None, None, None, None, None]\n",
      "Daily Turnover : [None, None, None, None, None]\n"
     ]
    }
   ],
   "source": [
    "# Display head of data\n",
    "for key, value in data.items():\n",
    "    print(key, ':', value[:5])"
   ]
  },
  {
   "cell_type": "code",
   "execution_count": 71,
   "metadata": {},
   "outputs": [
    {
     "name": "stdout",
     "output_type": "stream",
     "text": [
      "Highest opening price for the stock was 53.11 in 2017.\n",
      "Lowest opening price for the stock was 34.00 in 2017.\n"
     ]
    }
   ],
   "source": [
    "# 3. Calculate what the highest and lowest opening prices were for the stock in this period.\n",
    "print('Highest opening price for the stock was {:.2f} in 2017.'.format(max([x for x in data['Open'] if x])))\n",
    "print('Lowest opening price for the stock was {:.2f} in 2017.'.format(min([x for x in data['Open'] if x])))"
   ]
  },
  {
   "cell_type": "code",
   "execution_count": 72,
   "metadata": {},
   "outputs": [
    {
     "name": "stdout",
     "output_type": "stream",
     "text": [
      "The largest change in any one day based on High and Low price was 2.81 in 2017.\n"
     ]
    }
   ],
   "source": [
    "# 4. What was the largest change in any one day (based on High and Low price)?\n",
    "one_day_change=[data['High'][i]-data['Low'][i] for i in range(len(data['High']))]\n",
    "print('The largest change in any one day based on High and Low price was {:.2f} in 2017.'.format(max(one_day_change)))"
   ]
  },
  {
   "cell_type": "code",
   "execution_count": 73,
   "metadata": {},
   "outputs": [
    {
     "name": "stdout",
     "output_type": "stream",
     "text": [
      "The largest change between any two days was 19.03 in 2017 based on closing price.\n"
     ]
    }
   ],
   "source": [
    "# 5. What was the largest change between any two days (based on Closing Price)?\n",
    "print('The largest change between any two days was {:.2f} in 2017 based on closing price.'.format(max(data['Close'])-min(data['Close'])))"
   ]
  },
  {
   "cell_type": "code",
   "execution_count": 74,
   "metadata": {},
   "outputs": [
    {
     "name": "stdout",
     "output_type": "stream",
     "text": [
      "The average daily trading volumn during 2017 was 89124.34.\n"
     ]
    }
   ],
   "source": [
    "# 6. What was the average daily trading volume during this year?\n",
    "print('The average daily trading volumn during 2017 was {:.2f}.'.format(sum(data['Traded Volume'])/len(data['Traded Volume'])))"
   ]
  },
  {
   "cell_type": "code",
   "execution_count": 78,
   "metadata": {},
   "outputs": [
    {
     "name": "stdout",
     "output_type": "stream",
     "text": [
      "The median trading volume in 2017 was 76286.00.\n"
     ]
    }
   ],
   "source": [
    "# 7. (Optional) What was the median trading volume during this year. \n",
    "# (Note: you may need to implement your own function for calculating the median.)\n",
    "#########################################################################\n",
    "def get_median(List):\n",
    "    \"\"\"\n",
    "    Get the median number from a numeric list. \n",
    "    The argument is a list with numbers as elements.\n",
    "    \"\"\"\n",
    "    if len(List)==0:\n",
    "        return None\n",
    "    else:\n",
    "        Sorted=sorted(List)\n",
    "        if len(Sorted)%2==0:\n",
    "            higher_index=int(len(Sorted)/2)\n",
    "            lower_index=higher_index-1\n",
    "            return (Sorted[higher_index]+Sorted[lower_index])/2\n",
    "        else:\n",
    "            return Sorted[int(len(Sorted)/2)]\n",
    "#########################################################################\n",
    "print('The median trading volume in 2017 was {:.2f}.'.format(get_median(data['Traded Volume'])))"
   ]
  }
 ],
 "metadata": {
  "kernelspec": {
   "display_name": "Python 3",
   "language": "python",
   "name": "python3"
  },
  "language_info": {
   "codemirror_mode": {
    "name": "ipython",
    "version": 3
   },
   "file_extension": ".py",
   "mimetype": "text/x-python",
   "name": "python",
   "nbconvert_exporter": "python",
   "pygments_lexer": "ipython3",
   "version": "3.7.4"
  }
 },
 "nbformat": 4,
 "nbformat_minor": 2
}
